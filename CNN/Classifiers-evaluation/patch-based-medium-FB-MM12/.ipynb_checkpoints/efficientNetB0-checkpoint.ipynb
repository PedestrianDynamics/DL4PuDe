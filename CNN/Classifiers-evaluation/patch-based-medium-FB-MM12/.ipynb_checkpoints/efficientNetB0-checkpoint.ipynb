{
 "cells": [
  {
   "cell_type": "markdown",
   "id": "c2cac94d",
   "metadata": {},
   "source": [
    "## EfficientNetB0 model evaluation\n"
   ]
  },
  {
   "cell_type": "code",
   "execution_count": 1,
   "id": "f053d441",
   "metadata": {},
   "outputs": [],
   "source": [
    "import time\n",
    "from matplotlib import pyplot as plt\n",
    "from tensorflow.keras.models import Sequential\n",
    "from tensorflow.keras.preprocessing.image import ImageDataGenerator\n",
    "from sklearn.metrics import classification_report, confusion_matrix\n",
    "import numpy as np\n",
    "import warnings\n",
    "warnings.filterwarnings('ignore')\n",
    "from tensorflow.keras.models import load_model\n",
    "import tensorflow as tf\n",
    "import pandas as pd\n",
    "from tensorflow.keras.preprocessing.image import ImageDataGenerator, load_img, img_to_array\n",
    "from keras.preprocessing import image\n",
    "from os import listdir\n",
    "from os.path import isfile, join\n",
    "import seaborn as sns \n",
    "from tensorflow.keras.models import load_model\n",
    "\n",
    "\n"
   ]
  },
  {
   "cell_type": "code",
   "execution_count": 3,
   "id": "ccce358f",
   "metadata": {},
   "outputs": [
    {
     "name": "stdout",
     "output_type": "stream",
     "text": [
      "Found 638 images belonging to 2 classes.\n"
     ]
    }
   ],
   "source": [
    "test_data_dir = '../../Datasets/medium-patches-12-RAFT/all/test'\n",
    "img_rows, img_cols = 150,150\n",
    "test_datagen = ImageDataGenerator()\n",
    " \n",
    "\n",
    "test_generator = test_datagen.flow_from_directory(\n",
    "        test_data_dir,\n",
    "        target_size=(img_rows, img_cols),\n",
    "        class_mode='binary')\n",
    "   \n",
    "# Fetching x_test, y_test variables from test.    \n",
    "test_generator.reset()\n",
    "x_test, y_test = next(test_generator)\n",
    "for i in range(len(test_generator)-1): \n",
    "    img, label = next(test_generator)\n",
    "    x_test = np.append(x_test, img, axis=0 )\n",
    "    y_test = np.append(y_test, label, axis=0)\n",
    "    \n",
    "\n",
    "nb_test_samples = len(x_test) \n",
    "    \n",
    " \n",
    "    \n"
   ]
  },
  {
   "cell_type": "markdown",
   "id": "586688c9",
   "metadata": {},
   "source": [
    "### Model evaluation"
   ]
  },
  {
   "cell_type": "code",
   "execution_count": 3,
   "id": "fe7875a5",
   "metadata": {},
   "outputs": [
    {
     "name": "stdout",
     "output_type": "stream",
     "text": [
      "**********************Classification Report ******************\n",
      "              precision    recall  f1-score   support\n",
      "\n",
      "         0.0       0.91      0.75      0.82       269\n",
      "         1.0       0.84      0.95      0.89       369\n",
      "\n",
      "    accuracy                           0.86       638\n",
      "   macro avg       0.88      0.85      0.86       638\n",
      "weighted avg       0.87      0.86      0.86       638\n",
      "\n",
      "\n",
      "**************************Confusion Matrix********************\n"
     ]
    },
    {
     "data": {
      "image/png": "[encoded data removed]",
      "text/plain": [
       "<Figure size 432x432 with 2 Axes>"
      ]
     },
     "metadata": {
      "needs_background": "light"
     },
     "output_type": "display_data"
    },
    {
     "data": {
      "text/plain": [
       "<Figure size 432x432 with 0 Axes>"
      ]
     },
     "metadata": {},
     "output_type": "display_data"
    }
   ],
   "source": [
    "model= load_model('../Building CNN models/Models/EfficientNetB0.h5')\n",
    "test_generator.reset()\n",
    "\n",
    "classes=[\"Non-pushing\",\"Pushing\"]\n",
    "y_pred=model.predict(x_test)\n",
    "Y_pred=(np.round(y_pred))\n",
    "\n",
    "\n",
    "\n",
    "# Precision=TP/(TP+FP)\n",
    "# Recall=TP/(TP+FN)\n",
    "# f1-score  metric combines precision and recall   \n",
    "\n",
    "print (\"**********************Classification Report ******************\") \n",
    "print(classification_report(y_test, Y_pred))\n",
    "print()\n",
    "\n",
    "print (\"**************************Confusion Matrix********************\")\n",
    "con_mat = tf.math.confusion_matrix(labels=y_test, predictions=Y_pred).numpy()\n",
    "\n",
    "con_mat_norm_per = np.around(con_mat.astype('float') / con_mat.sum(axis=1)[:, np.newaxis], decimals=2)\n",
    "\n",
    "\n",
    "con_mat_df_per = pd.DataFrame(con_mat_norm_per,\n",
    "                     index = classes, \n",
    "                     columns = classes)\n",
    "\n",
    "\n",
    " \n",
    "figure = plt.figure(figsize=(6, 6))\n",
    "sns.heatmap(con_mat_df_per, annot=True,cmap=plt.cm.Blues)\n",
    "\n",
    "plt.tight_layout()\n",
    "plt.ylabel('Actual label')\n",
    "plt.xlabel('Predicted label')\n",
    "plt.show()\n",
    "\n",
    "figure = plt.figure(figsize=(6, 6))\n"
   ]
  },
  {
   "cell_type": "markdown",
   "id": "f2edb03d",
   "metadata": {},
   "source": [
    "### Video no. 110"
   ]
  },
  {
   "cell_type": "code",
   "execution_count": 4,
   "id": "bc387d23",
   "metadata": {},
   "outputs": [
    {
     "name": "stdout",
     "output_type": "stream",
     "text": [
      "Found 72 images belonging to 2 classes.\n",
      "**********************Classification Report ******************\n",
      "              precision    recall  f1-score   support\n",
      "\n",
      "         0.0       1.00      0.77      0.87        26\n",
      "         1.0       0.88      1.00      0.94        46\n",
      "\n",
      "    accuracy                           0.92        72\n",
      "   macro avg       0.94      0.88      0.90        72\n",
      "weighted avg       0.93      0.92      0.91        72\n",
      "\n",
      "\n",
      "**************************Confusion Matrix********************\n"
     ]
    },
    {
     "data": {
      "image/png": "[encoded data removed]",
      "text/plain": [
       "<Figure size 432x432 with 2 Axes>"
      ]
     },
     "metadata": {
      "needs_background": "light"
     },
     "output_type": "display_data"
    },
    {
     "data": {
      "text/plain": [
       "<Figure size 432x432 with 0 Axes>"
      ]
     },
     "metadata": {},
     "output_type": "display_data"
    }
   ],
   "source": [
    "test_data_dir = '../Building CNN models/datasets/labeled-patches-110-12/test'\n",
    "\n",
    "\n",
    "test_datagen = ImageDataGenerator()\n",
    " \n",
    "\n",
    "test_generator = test_datagen.flow_from_directory(\n",
    "        test_data_dir,\n",
    "        target_size=(img_rows, img_cols),\n",
    "        class_mode='binary')\n",
    "   \n",
    "# Fetching x_test, y_test variables from test.    \n",
    "test_generator.reset()\n",
    "x_test, y_test = next(test_generator)\n",
    "for i in range(len(test_generator)-1): \n",
    "    img, label = next(test_generator)\n",
    "    x_test = np.append(x_test, img, axis=0 )\n",
    "    y_test = np.append(y_test, label, axis=0)\n",
    "    \n",
    "\n",
    "nb_test_samples = len(x_test) \n",
    "\n",
    "\n",
    "test_generator.reset()\n",
    "\n",
    "classes=[\"Non-pushing\",\"Pushing\"]\n",
    "y_pred=model.predict(x_test)\n",
    "Y_pred=(np.round(y_pred))\n",
    "\n",
    "\n",
    "\n",
    "# Precision=TP/(TP+FP)\n",
    "# Recall=TP/(TP+FN)\n",
    "# f1-score  metric combines precision and recall   \n",
    "\n",
    "print (\"**********************Classification Report ******************\") \n",
    "print(classification_report(y_test, Y_pred))\n",
    "print()\n",
    "\n",
    "print (\"**************************Confusion Matrix********************\")\n",
    "con_mat = tf.math.confusion_matrix(labels=y_test, predictions=Y_pred).numpy()\n",
    "\n",
    "con_mat_norm_per = np.around(con_mat.astype('float') / con_mat.sum(axis=1)[:, np.newaxis], decimals=2)\n",
    "\n",
    "\n",
    "con_mat_df_per = pd.DataFrame(con_mat_norm_per,\n",
    "                     index = classes, \n",
    "                     columns = classes)\n",
    "\n",
    "\n",
    " \n",
    "figure = plt.figure(figsize=(6, 6))\n",
    "sns.heatmap(con_mat_df_per, annot=True,cmap=plt.cm.Blues)\n",
    "\n",
    "plt.tight_layout()\n",
    "plt.ylabel('Actual label')\n",
    "plt.xlabel('Predicted label')\n",
    "plt.show()\n",
    "\n",
    "figure = plt.figure(figsize=(6, 6))\n",
    "    "
   ]
  },
  {
   "cell_type": "markdown",
   "id": "3f53c1e4",
   "metadata": {},
   "source": [
    "### Video no. 170"
   ]
  },
  {
   "cell_type": "code",
   "execution_count": 5,
   "id": "09e4774a",
   "metadata": {},
   "outputs": [
    {
     "name": "stdout",
     "output_type": "stream",
     "text": [
      "Found 24 images belonging to 2 classes.\n",
      "**********************Classification Report ******************\n",
      "              precision    recall  f1-score   support\n",
      "\n",
      "         0.0       0.50      0.38      0.43         8\n",
      "         1.0       0.72      0.81      0.76        16\n",
      "\n",
      "    accuracy                           0.67        24\n",
      "   macro avg       0.61      0.59      0.60        24\n",
      "weighted avg       0.65      0.67      0.65        24\n",
      "\n",
      "\n",
      "**************************Confusion Matrix********************\n"
     ]
    },
    {
     "data": {
      "image/png": "[encoded data removed]",
      "text/plain": [
       "<Figure size 432x432 with 2 Axes>"
      ]
     },
     "metadata": {
      "needs_background": "light"
     },
     "output_type": "display_data"
    },
    {
     "data": {
      "text/plain": [
       "<Figure size 432x432 with 0 Axes>"
      ]
     },
     "metadata": {},
     "output_type": "display_data"
    }
   ],
   "source": [
    "test_data_dir = '../Building CNN models/datasets/labeled-patches-170-12/test'\n",
    "\n",
    "\n",
    "test_datagen = ImageDataGenerator()\n",
    " \n",
    "\n",
    "test_generator = test_datagen.flow_from_directory(\n",
    "        test_data_dir,\n",
    "        target_size=(img_rows, img_cols),\n",
    "        class_mode='binary')\n",
    "   \n",
    "# Fetching x_test, y_test variables from test.    \n",
    "test_generator.reset()\n",
    "x_test, y_test = next(test_generator)\n",
    "for i in range(len(test_generator)-1): \n",
    "    img, label = next(test_generator)\n",
    "    x_test = np.append(x_test, img, axis=0 )\n",
    "    y_test = np.append(y_test, label, axis=0)\n",
    "    \n",
    "\n",
    "nb_test_samples = len(x_test) \n",
    "\n",
    "\n",
    "test_generator.reset()\n",
    "\n",
    "classes=[\"Non-pushing\",\"Pushing\"]\n",
    "y_pred=model.predict(x_test)\n",
    "Y_pred=(np.round(y_pred))\n",
    "\n",
    "\n",
    "\n",
    "# Precision=TP/(TP+FP)\n",
    "# Recall=TP/(TP+FN)\n",
    "# f1-score  metric combines precision and recall   \n",
    "\n",
    "print (\"**********************Classification Report ******************\") \n",
    "print(classification_report(y_test, Y_pred))\n",
    "print()\n",
    "\n",
    "print (\"**************************Confusion Matrix********************\")\n",
    "con_mat = tf.math.confusion_matrix(labels=y_test, predictions=Y_pred).numpy()\n",
    "\n",
    "con_mat_norm_per = np.around(con_mat.astype('float') / con_mat.sum(axis=1)[:, np.newaxis], decimals=2)\n",
    "\n",
    "\n",
    "con_mat_df_per = pd.DataFrame(con_mat_norm_per,\n",
    "                     index = classes, \n",
    "                     columns = classes)\n",
    "\n",
    "\n",
    " \n",
    "figure = plt.figure(figsize=(6, 6))\n",
    "sns.heatmap(con_mat_df_per, annot=True,cmap=plt.cm.Blues)\n",
    "\n",
    "plt.tight_layout()\n",
    "plt.ylabel('Actual label')\n",
    "plt.xlabel('Predicted label')\n",
    "plt.show()\n",
    "\n",
    "figure = plt.figure(figsize=(6, 6))\n",
    "    "
   ]
  },
  {
   "cell_type": "markdown",
   "id": "98d649df",
   "metadata": {},
   "source": [
    "### Video no.150"
   ]
  },
  {
   "cell_type": "code",
   "execution_count": 6,
   "id": "f37bfb2d",
   "metadata": {},
   "outputs": [
    {
     "name": "stdout",
     "output_type": "stream",
     "text": [
      "Found 121 images belonging to 2 classes.\n",
      "**********************Classification Report ******************\n",
      "              precision    recall  f1-score   support\n",
      "\n",
      "         0.0       0.98      0.90      0.94        70\n",
      "         1.0       0.88      0.98      0.93        51\n",
      "\n",
      "    accuracy                           0.93       121\n",
      "   macro avg       0.93      0.94      0.93       121\n",
      "weighted avg       0.94      0.93      0.93       121\n",
      "\n",
      "\n",
      "**************************Confusion Matrix********************\n"
     ]
    },
    {
     "data": {
      "image/png": "[encoded data removed]",
      "text/plain": [
       "<Figure size 432x432 with 2 Axes>"
      ]
     },
     "metadata": {
      "needs_background": "light"
     },
     "output_type": "display_data"
    },
    {
     "data": {
      "text/plain": [
       "<Figure size 432x432 with 0 Axes>"
      ]
     },
     "metadata": {},
     "output_type": "display_data"
    }
   ],
   "source": [
    "test_data_dir = '../Building CNN models/datasets/labeled-patches-150-12/test'\n",
    "\n",
    "\n",
    "test_datagen = ImageDataGenerator()\n",
    " \n",
    "\n",
    "test_generator = test_datagen.flow_from_directory(\n",
    "        test_data_dir,\n",
    "        target_size=(img_rows, img_cols),\n",
    "        class_mode='binary')\n",
    "   \n",
    "# Fetching x_test, y_test variables from test.    \n",
    "test_generator.reset()\n",
    "x_test, y_test = next(test_generator)\n",
    "for i in range(len(test_generator)-1): \n",
    "    img, label = next(test_generator)\n",
    "    x_test = np.append(x_test, img, axis=0 )\n",
    "    y_test = np.append(y_test, label, axis=0)\n",
    "    \n",
    "\n",
    "nb_test_samples = len(x_test) \n",
    "\n",
    "\n",
    "test_generator.reset()\n",
    "\n",
    "classes=[\"Non-pushing\",\"Pushing\"]\n",
    "y_pred=model.predict(x_test)\n",
    "Y_pred=(np.round(y_pred))\n",
    "\n",
    "\n",
    "\n",
    "# Precision=TP/(TP+FP)\n",
    "# Recall=TP/(TP+FN)\n",
    "# f1-score  metric combines precision and recall   \n",
    "\n",
    "print (\"**********************Classification Report ******************\") \n",
    "print(classification_report(y_test, Y_pred))\n",
    "print()\n",
    "\n",
    "print (\"**************************Confusion Matrix********************\")\n",
    "con_mat = tf.math.confusion_matrix(labels=y_test, predictions=Y_pred).numpy()\n",
    "\n",
    "con_mat_norm_per = np.around(con_mat.astype('float') / con_mat.sum(axis=1)[:, np.newaxis], decimals=2)\n",
    "\n",
    "\n",
    "con_mat_df_per = pd.DataFrame(con_mat_norm_per,\n",
    "                     index = classes, \n",
    "                     columns = classes)\n",
    "\n",
    "\n",
    " \n",
    "figure = plt.figure(figsize=(6, 6))\n",
    "sns.heatmap(con_mat_df_per, annot=True,cmap=plt.cm.Blues)\n",
    "\n",
    "plt.tight_layout()\n",
    "plt.ylabel('Actual label')\n",
    "plt.xlabel('Predicted label')\n",
    "plt.show()\n",
    "\n",
    "figure = plt.figure(figsize=(6, 6))\n",
    "    "
   ]
  },
  {
   "cell_type": "markdown",
   "id": "80dc9b56",
   "metadata": {},
   "source": [
    "### Video no. 270"
   ]
  },
  {
   "cell_type": "code",
   "execution_count": 7,
   "id": "f2a8908f",
   "metadata": {},
   "outputs": [
    {
     "name": "stdout",
     "output_type": "stream",
     "text": [
      "Found 204 images belonging to 2 classes.\n",
      "**********************Classification Report ******************\n",
      "              precision    recall  f1-score   support\n",
      "\n",
      "         0.0       1.00      0.70      0.82        92\n",
      "         1.0       0.80      1.00      0.89       112\n",
      "\n",
      "    accuracy                           0.86       204\n",
      "   macro avg       0.90      0.85      0.85       204\n",
      "weighted avg       0.89      0.86      0.86       204\n",
      "\n",
      "\n",
      "**************************Confusion Matrix********************\n"
     ]
    },
    {
     "data": {
      "image/png": "[encoded data removed]",
      "text/plain": [
       "<Figure size 432x432 with 2 Axes>"
      ]
     },
     "metadata": {
      "needs_background": "light"
     },
     "output_type": "display_data"
    },
    {
     "data": {
      "text/plain": [
       "<Figure size 432x432 with 0 Axes>"
      ]
     },
     "metadata": {},
     "output_type": "display_data"
    }
   ],
   "source": [
    "test_data_dir = '../Building CNN models/datasets/labeled-patches-270-12/test'\n",
    "\n",
    "\n",
    "test_datagen = ImageDataGenerator()\n",
    " \n",
    "\n",
    "test_generator = test_datagen.flow_from_directory(\n",
    "        test_data_dir,\n",
    "        target_size=(img_rows, img_cols),\n",
    "        class_mode='binary')\n",
    "   \n",
    "# Fetching x_test, y_test variables from test.    \n",
    "test_generator.reset()\n",
    "x_test, y_test = next(test_generator)\n",
    "for i in range(len(test_generator)-1): \n",
    "    img, label = next(test_generator)\n",
    "    x_test = np.append(x_test, img, axis=0 )\n",
    "    y_test = np.append(y_test, label, axis=0)\n",
    "    \n",
    "\n",
    "nb_test_samples = len(x_test) \n",
    "\n",
    "\n",
    "test_generator.reset()\n",
    "\n",
    "classes=[\"Non-pushing\",\"Pushing\"]\n",
    "y_pred=model.predict(x_test)\n",
    "Y_pred=(np.round(y_pred))\n",
    "\n",
    "\n",
    "\n",
    "# Precision=TP/(TP+FP)\n",
    "# Recall=TP/(TP+FN)\n",
    "# f1-score  metric combines precision and recall   \n",
    "\n",
    "print (\"**********************Classification Report ******************\") \n",
    "print(classification_report(y_test, Y_pred))\n",
    "print()\n",
    "\n",
    "print (\"**************************Confusion Matrix********************\")\n",
    "con_mat = tf.math.confusion_matrix(labels=y_test, predictions=Y_pred).numpy()\n",
    "\n",
    "con_mat_norm_per = np.around(con_mat.astype('float') / con_mat.sum(axis=1)[:, np.newaxis], decimals=2)\n",
    "\n",
    "\n",
    "con_mat_df_per = pd.DataFrame(con_mat_norm_per,\n",
    "                     index = classes, \n",
    "                     columns = classes)\n",
    "\n",
    "\n",
    " \n",
    "figure = plt.figure(figsize=(6, 6))\n",
    "sns.heatmap(con_mat_df_per, annot=True,cmap=plt.cm.Blues)\n",
    "\n",
    "plt.tight_layout()\n",
    "plt.ylabel('Actual label')\n",
    "plt.xlabel('Predicted label')\n",
    "plt.show()\n",
    "\n",
    "figure = plt.figure(figsize=(6, 6))\n",
    "    "
   ]
  },
  {
   "cell_type": "markdown",
   "id": "bb5cb0ad",
   "metadata": {},
   "source": [
    "### Video no. 280"
   ]
  },
  {
   "cell_type": "code",
   "execution_count": 8,
   "id": "f5c675bc",
   "metadata": {},
   "outputs": [
    {
     "name": "stdout",
     "output_type": "stream",
     "text": [
      "Found 164 images belonging to 2 classes.\n",
      "**********************Classification Report ******************\n",
      "              precision    recall  f1-score   support\n",
      "\n",
      "         0.0       0.75      0.68      0.72        57\n",
      "         1.0       0.84      0.88      0.86       107\n",
      "\n",
      "    accuracy                           0.81       164\n",
      "   macro avg       0.79      0.78      0.79       164\n",
      "weighted avg       0.81      0.81      0.81       164\n",
      "\n",
      "\n",
      "**************************Confusion Matrix********************\n"
     ]
    },
    {
     "data": {
      "image/png": "[encoded data removed]",
      "text/plain": [
       "<Figure size 432x432 with 2 Axes>"
      ]
     },
     "metadata": {
      "needs_background": "light"
     },
     "output_type": "display_data"
    },
    {
     "data": {
      "text/plain": [
       "<Figure size 432x432 with 0 Axes>"
      ]
     },
     "metadata": {},
     "output_type": "display_data"
    }
   ],
   "source": [
    "test_data_dir = '../Building CNN models/datasets/labeled-patches-280-12/test'\n",
    "\n",
    "\n",
    "test_datagen = ImageDataGenerator()\n",
    " \n",
    "\n",
    "test_generator = test_datagen.flow_from_directory(\n",
    "        test_data_dir,\n",
    "        target_size=(img_rows, img_cols),\n",
    "        class_mode='binary')\n",
    "   \n",
    "# Fetching x_test, y_test variables from test.    \n",
    "test_generator.reset()\n",
    "x_test, y_test = next(test_generator)\n",
    "for i in range(len(test_generator)-1): \n",
    "    img, label = next(test_generator)\n",
    "    x_test = np.append(x_test, img, axis=0 )\n",
    "    y_test = np.append(y_test, label, axis=0)\n",
    "    \n",
    "\n",
    "nb_test_samples = len(x_test) \n",
    "\n",
    "\n",
    "test_generator.reset()\n",
    "\n",
    "classes=[\"Non-pushing\",\"Pushing\"]\n",
    "y_pred=model.predict(x_test)\n",
    "Y_pred=(np.round(y_pred))\n",
    "\n",
    "\n",
    "\n",
    "# Precision=TP/(TP+FP)\n",
    "# Recall=TP/(TP+FN)\n",
    "# f1-score  metric combines precision and recall   \n",
    "\n",
    "print (\"**********************Classification Report ******************\") \n",
    "print(classification_report(y_test, Y_pred))\n",
    "print()\n",
    "\n",
    "print (\"**************************Confusion Matrix********************\")\n",
    "con_mat = tf.math.confusion_matrix(labels=y_test, predictions=Y_pred).numpy()\n",
    "\n",
    "con_mat_norm_per = np.around(con_mat.astype('float') / con_mat.sum(axis=1)[:, np.newaxis], decimals=2)\n",
    "\n",
    "\n",
    "con_mat_df_per = pd.DataFrame(con_mat_norm_per,\n",
    "                     index = classes, \n",
    "                     columns = classes)\n",
    "\n",
    "\n",
    " \n",
    "figure = plt.figure(figsize=(6, 6))\n",
    "sns.heatmap(con_mat_df_per, annot=True,cmap=plt.cm.Blues)\n",
    "\n",
    "plt.tight_layout()\n",
    "plt.ylabel('Actual label')\n",
    "plt.xlabel('Predicted label')\n",
    "plt.show()\n",
    "\n",
    "figure = plt.figure(figsize=(6, 6))\n",
    "    "
   ]
  },
  {
   "cell_type": "code",
   "execution_count": null,
   "id": "93743a4e",
   "metadata": {},
   "outputs": [],
   "source": []
  }
 ],
 "metadata": {
  "kernelspec": {
   "display_name": "Python 3",
   "language": "python",
   "name": "python3"
  },
  "language_info": {
   "codemirror_mode": {
    "name": "ipython",
    "version": 3
   },
   "file_extension": ".py",
   "mimetype": "text/x-python",
   "name": "python",
   "nbconvert_exporter": "python",
   "pygments_lexer": "ipython3",
   "version": "3.8.8"
  }
 },
 "nbformat": 4,
 "nbformat_minor": 5
}

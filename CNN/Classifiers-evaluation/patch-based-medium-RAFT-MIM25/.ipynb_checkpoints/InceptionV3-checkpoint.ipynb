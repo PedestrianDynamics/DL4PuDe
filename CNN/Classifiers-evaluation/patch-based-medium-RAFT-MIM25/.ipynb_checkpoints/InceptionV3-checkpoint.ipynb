{
 "cells": [
  {
   "cell_type": "markdown",
   "id": "c2cac94d",
   "metadata": {},
   "source": [
    "## InceptionV3 model evaluation\n",
    "\n",
    "First-level-RAFT-12\n"
   ]
  },
  {
   "cell_type": "code",
   "execution_count": 1,
   "id": "f053d441",
   "metadata": {},
   "outputs": [],
   "source": [
    "import time\n",
    "from matplotlib import pyplot as plt\n",
    "from tensorflow.keras.models import Sequential\n",
    "from tensorflow.keras.preprocessing.image import ImageDataGenerator\n",
    "from sklearn.metrics import classification_report, confusion_matrix\n",
    "import numpy as np\n",
    "import warnings\n",
    "warnings.filterwarnings('ignore')\n",
    "from tensorflow.keras.models import load_model\n",
    "import tensorflow as tf\n",
    "import pandas as pd\n",
    "from tensorflow.keras.preprocessing.image import ImageDataGenerator, load_img, img_to_array\n",
    "from keras.preprocessing import image\n",
    "from os import listdir\n",
    "from os.path import isfile, join\n",
    "import seaborn as sns \n",
    "from tensorflow.keras.models import load_model\n",
    "\n",
    "\n"
   ]
  },
  {
   "cell_type": "code",
   "execution_count": 2,
   "id": "ccce358f",
   "metadata": {},
   "outputs": [
    {
     "name": "stdout",
     "output_type": "stream",
     "text": [
      "Found 576 images belonging to 2 classes.\n"
     ]
    }
   ],
   "source": [
    "test_data_dir = '../../Datasets/RAFT-12-first-level/all'\n",
    "img_rows, img_cols = 224,224\n",
    "test_datagen = ImageDataGenerator()\n",
    " \n",
    "\n",
    "test_generator = test_datagen.flow_from_directory(\n",
    "        test_data_dir,\n",
    "        target_size=(img_rows, img_cols),\n",
    "        class_mode='binary')\n",
    "   \n",
    "# Fetching x_test, y_test variables from test.    \n",
    "test_generator.reset()\n",
    "x_test, y_test = next(test_generator)\n",
    "for i in range(len(test_generator)-1): \n",
    "    img, label = next(test_generator)\n",
    "    x_test = np.append(x_test, img, axis=0 )\n",
    "    y_test = np.append(y_test, label, axis=0)\n",
    "    \n",
    "\n",
    "nb_test_samples = len(x_test) \n",
    "    \n",
    " \n",
    "    \n"
   ]
  },
  {
   "cell_type": "markdown",
   "id": "586688c9",
   "metadata": {},
   "source": [
    "### Model evaluation"
   ]
  },
  {
   "cell_type": "code",
   "execution_count": 3,
   "id": "fe7875a5",
   "metadata": {},
   "outputs": [
    {
     "name": "stdout",
     "output_type": "stream",
     "text": [
      "**********************Classification Report ******************\n",
      "              precision    recall  f1-score   support\n",
      "\n",
      "         0.0       0.81      0.81      0.81       360\n",
      "         1.0       0.68      0.69      0.68       216\n",
      "\n",
      "    accuracy                           0.76       576\n",
      "   macro avg       0.75      0.75      0.75       576\n",
      "weighted avg       0.76      0.76      0.76       576\n",
      "\n",
      "\n",
      "**************************Confusion Matrix********************\n"
     ]
    },
    {
     "data": {
      "image/png": "[encoded data removed]",
      "text/plain": [
       "<Figure size 432x432 with 2 Axes>"
      ]
     },
     "metadata": {
      "needs_background": "light"
     },
     "output_type": "display_data"
    },
    {
     "data": {
      "text/plain": [
       "<Figure size 432x432 with 0 Axes>"
      ]
     },
     "metadata": {},
     "output_type": "display_data"
    }
   ],
   "source": [
    "model= load_model('../../Models/InceptionV3-medium-patches-12-RAFT.h5')\n",
    "test_generator.reset()\n",
    "\n",
    "classes=[\"Non-pushing\",\"Pushing\"]\n",
    "y_pred=model.predict(x_test)\n",
    "Y_pred=(np.round(y_pred))\n",
    "\n",
    "\n",
    "\n",
    "# Precision=TP/(TP+FP)\n",
    "# Recall=TP/(TP+FN)\n",
    "# f1-score  metric combines precision and recall   \n",
    "\n",
    "print (\"**********************Classification Report ******************\") \n",
    "print(classification_report(y_test, Y_pred))\n",
    "print()\n",
    "\n",
    "print (\"**************************Confusion Matrix********************\")\n",
    "con_mat = tf.math.confusion_matrix(labels=y_test, predictions=Y_pred).numpy()\n",
    "\n",
    "con_mat_norm_per = np.around(con_mat.astype('float') / con_mat.sum(axis=1)[:, np.newaxis], decimals=2)\n",
    "\n",
    "\n",
    "con_mat_df_per = pd.DataFrame(con_mat_norm_per,\n",
    "                     index = classes, \n",
    "                     columns = classes)\n",
    "\n",
    "\n",
    " \n",
    "figure = plt.figure(figsize=(6, 6))\n",
    "sns.heatmap(con_mat_df_per, annot=True,cmap=plt.cm.Blues)\n",
    "\n",
    "plt.tight_layout()\n",
    "plt.ylabel('Actual label')\n",
    "plt.xlabel('Predicted label')\n",
    "plt.show()\n",
    "\n",
    "figure = plt.figure(figsize=(6, 6))\n"
   ]
  },
  {
   "cell_type": "markdown",
   "id": "f2edb03d",
   "metadata": {},
   "source": [
    "### Video no. 110"
   ]
  },
  {
   "cell_type": "code",
   "execution_count": 4,
   "id": "bc387d23",
   "metadata": {},
   "outputs": [
    {
     "name": "stdout",
     "output_type": "stream",
     "text": [
      "Found 68 images belonging to 2 classes.\n",
      "**********************Classification Report ******************\n",
      "              precision    recall  f1-score   support\n",
      "\n",
      "         0.0       0.77      0.71      0.74        28\n",
      "         1.0       0.81      0.85      0.83        40\n",
      "\n",
      "    accuracy                           0.79        68\n",
      "   macro avg       0.79      0.78      0.79        68\n",
      "weighted avg       0.79      0.79      0.79        68\n",
      "\n",
      "\n",
      "**************************Confusion Matrix********************\n"
     ]
    },
    {
     "data": {
      "image/png": "[encoded data removed]",
      "text/plain": [
       "<Figure size 432x432 with 2 Axes>"
      ]
     },
     "metadata": {
      "needs_background": "light"
     },
     "output_type": "display_data"
    },
    {
     "data": {
      "text/plain": [
       "<Figure size 432x432 with 0 Axes>"
      ]
     },
     "metadata": {},
     "output_type": "display_data"
    }
   ],
   "source": [
    "test_data_dir = '../../Datasets/RAFT-12-first-level/110'\n",
    "\n",
    "\n",
    "\n",
    "test_datagen = ImageDataGenerator()\n",
    " \n",
    "\n",
    "test_generator = test_datagen.flow_from_directory(\n",
    "        test_data_dir,\n",
    "        target_size=(img_rows, img_cols),\n",
    "        class_mode='binary')\n",
    "   \n",
    "# Fetching x_test, y_test variables from test.    \n",
    "test_generator.reset()\n",
    "x_test, y_test = next(test_generator)\n",
    "for i in range(len(test_generator)-1): \n",
    "    img, label = next(test_generator)\n",
    "    x_test = np.append(x_test, img, axis=0 )\n",
    "    y_test = np.append(y_test, label, axis=0)\n",
    "    \n",
    "\n",
    "nb_test_samples = len(x_test) \n",
    "\n",
    "\n",
    "test_generator.reset()\n",
    "\n",
    "classes=[\"Non-pushing\",\"Pushing\"]\n",
    "y_pred=model.predict(x_test)\n",
    "Y_pred=(np.round(y_pred))\n",
    "\n",
    "\n",
    "\n",
    "# Precision=TP/(TP+FP)\n",
    "# Recall=TP/(TP+FN)\n",
    "# f1-score  metric combines precision and recall   \n",
    "\n",
    "print (\"**********************Classification Report ******************\") \n",
    "print(classification_report(y_test, Y_pred))\n",
    "print()\n",
    "\n",
    "print (\"**************************Confusion Matrix********************\")\n",
    "con_mat = tf.math.confusion_matrix(labels=y_test, predictions=Y_pred).numpy()\n",
    "\n",
    "con_mat_norm_per = np.around(con_mat.astype('float') / con_mat.sum(axis=1)[:, np.newaxis], decimals=2)\n",
    "\n",
    "\n",
    "con_mat_df_per = pd.DataFrame(con_mat_norm_per,\n",
    "                     index = classes, \n",
    "                     columns = classes)\n",
    "\n",
    "\n",
    " \n",
    "figure = plt.figure(figsize=(6, 6))\n",
    "sns.heatmap(con_mat_df_per, annot=True,cmap=plt.cm.Blues)\n",
    "\n",
    "plt.tight_layout()\n",
    "plt.ylabel('Actual label')\n",
    "plt.xlabel('Predicted label')\n",
    "plt.show()\n",
    "\n",
    "figure = plt.figure(figsize=(6, 6))\n",
    "    "
   ]
  },
  {
   "cell_type": "markdown",
   "id": "3f53c1e4",
   "metadata": {},
   "source": [
    "### Video no. 170"
   ]
  },
  {
   "cell_type": "code",
   "execution_count": 5,
   "id": "09e4774a",
   "metadata": {},
   "outputs": [
    {
     "name": "stdout",
     "output_type": "stream",
     "text": [
      "Found 22 images belonging to 2 classes.\n",
      "**********************Classification Report ******************\n",
      "              precision    recall  f1-score   support\n",
      "\n",
      "         0.0       0.57      0.62      0.59        13\n",
      "         1.0       0.38      0.33      0.35         9\n",
      "\n",
      "    accuracy                           0.50        22\n",
      "   macro avg       0.47      0.47      0.47        22\n",
      "weighted avg       0.49      0.50      0.49        22\n",
      "\n",
      "\n",
      "**************************Confusion Matrix********************\n"
     ]
    },
    {
     "data": {
      "image/png": "[encoded data removed]",
      "text/plain": [
       "<Figure size 432x432 with 2 Axes>"
      ]
     },
     "metadata": {
      "needs_background": "light"
     },
     "output_type": "display_data"
    },
    {
     "data": {
      "text/plain": [
       "<Figure size 432x432 with 0 Axes>"
      ]
     },
     "metadata": {},
     "output_type": "display_data"
    }
   ],
   "source": [
    "test_data_dir = '../../Datasets/RAFT-12-first-level/170'\n",
    "\n",
    "\n",
    "test_datagen = ImageDataGenerator()\n",
    " \n",
    "\n",
    "test_generator = test_datagen.flow_from_directory(\n",
    "        test_data_dir,\n",
    "        target_size=(img_rows, img_cols),\n",
    "        class_mode='binary')\n",
    "   \n",
    "# Fetching x_test, y_test variables from test.    \n",
    "test_generator.reset()\n",
    "x_test, y_test = next(test_generator)\n",
    "for i in range(len(test_generator)-1): \n",
    "    img, label = next(test_generator)\n",
    "    x_test = np.append(x_test, img, axis=0 )\n",
    "    y_test = np.append(y_test, label, axis=0)\n",
    "    \n",
    "\n",
    "nb_test_samples = len(x_test) \n",
    "\n",
    "\n",
    "test_generator.reset()\n",
    "\n",
    "classes=[\"Non-pushing\",\"Pushing\"]\n",
    "y_pred=model.predict(x_test)\n",
    "Y_pred=(np.round(y_pred))\n",
    "\n",
    "\n",
    "\n",
    "# Precision=TP/(TP+FP)\n",
    "# Recall=TP/(TP+FN)\n",
    "# f1-score  metric combines precision and recall   \n",
    "\n",
    "print (\"**********************Classification Report ******************\") \n",
    "print(classification_report(y_test, Y_pred))\n",
    "print()\n",
    "\n",
    "print (\"**************************Confusion Matrix********************\")\n",
    "con_mat = tf.math.confusion_matrix(labels=y_test, predictions=Y_pred).numpy()\n",
    "\n",
    "con_mat_norm_per = np.around(con_mat.astype('float') / con_mat.sum(axis=1)[:, np.newaxis], decimals=2)\n",
    "\n",
    "\n",
    "con_mat_df_per = pd.DataFrame(con_mat_norm_per,\n",
    "                     index = classes, \n",
    "                     columns = classes)\n",
    "\n",
    "\n",
    " \n",
    "figure = plt.figure(figsize=(6, 6))\n",
    "sns.heatmap(con_mat_df_per, annot=True,cmap=plt.cm.Blues)\n",
    "\n",
    "plt.tight_layout()\n",
    "plt.ylabel('Actual label')\n",
    "plt.xlabel('Predicted label')\n",
    "plt.show()\n",
    "\n",
    "figure = plt.figure(figsize=(6, 6))\n",
    "    "
   ]
  },
  {
   "cell_type": "markdown",
   "id": "98d649df",
   "metadata": {},
   "source": [
    "### Video no.150"
   ]
  },
  {
   "cell_type": "code",
   "execution_count": 8,
   "id": "f37bfb2d",
   "metadata": {},
   "outputs": [
    {
     "name": "stdout",
     "output_type": "stream",
     "text": [
      "Found 146 images belonging to 2 classes.\n",
      "**********************Classification Report ******************\n",
      "              precision    recall  f1-score   support\n",
      "\n",
      "         0.0       0.85      0.88      0.87        99\n",
      "         1.0       0.73      0.68      0.70        47\n",
      "\n",
      "    accuracy                           0.82       146\n",
      "   macro avg       0.79      0.78      0.78       146\n",
      "weighted avg       0.81      0.82      0.81       146\n",
      "\n",
      "\n",
      "**************************Confusion Matrix********************\n"
     ]
    },
    {
     "data": {
      "image/png": "[encoded data removed]",
      "text/plain": [
       "<Figure size 432x432 with 2 Axes>"
      ]
     },
     "metadata": {
      "needs_background": "light"
     },
     "output_type": "display_data"
    },
    {
     "data": {
      "text/plain": [
       "<Figure size 432x432 with 0 Axes>"
      ]
     },
     "metadata": {},
     "output_type": "display_data"
    }
   ],
   "source": [
    "test_data_dir = '../../Datasets/RAFT-12-first-level/150'\n",
    "\n",
    "\n",
    "test_datagen = ImageDataGenerator()\n",
    " \n",
    "\n",
    "test_generator = test_datagen.flow_from_directory(\n",
    "        test_data_dir,\n",
    "        target_size=(img_rows, img_cols),\n",
    "        class_mode='binary')\n",
    "   \n",
    "# Fetching x_test, y_test variables from test.    \n",
    "test_generator.reset()\n",
    "x_test, y_test = next(test_generator)\n",
    "for i in range(len(test_generator)-1): \n",
    "    img, label = next(test_generator)\n",
    "    x_test = np.append(x_test, img, axis=0 )\n",
    "    y_test = np.append(y_test, label, axis=0)\n",
    "    \n",
    "\n",
    "nb_test_samples = len(x_test) \n",
    "\n",
    "\n",
    "test_generator.reset()\n",
    "\n",
    "classes=[\"Non-pushing\",\"Pushing\"]\n",
    "y_pred=model.predict(x_test)\n",
    "Y_pred=(np.round(y_pred))\n",
    "\n",
    "\n",
    "\n",
    "# Precision=TP/(TP+FP)\n",
    "# Recall=TP/(TP+FN)\n",
    "# f1-score  metric combines precision and recall   \n",
    "\n",
    "print (\"**********************Classification Report ******************\") \n",
    "print(classification_report(y_test, Y_pred))\n",
    "print()\n",
    "\n",
    "print (\"**************************Confusion Matrix********************\")\n",
    "con_mat = tf.math.confusion_matrix(labels=y_test, predictions=Y_pred).numpy()\n",
    "\n",
    "con_mat_norm_per = np.around(con_mat.astype('float') / con_mat.sum(axis=1)[:, np.newaxis], decimals=2)\n",
    "\n",
    "\n",
    "con_mat_df_per = pd.DataFrame(con_mat_norm_per,\n",
    "                     index = classes, \n",
    "                     columns = classes)\n",
    "\n",
    "\n",
    " \n",
    "figure = plt.figure(figsize=(6, 6))\n",
    "sns.heatmap(con_mat_df_per, annot=True,cmap=plt.cm.Blues)\n",
    "\n",
    "plt.tight_layout()\n",
    "plt.ylabel('Actual label')\n",
    "plt.xlabel('Predicted label')\n",
    "plt.show()\n",
    "\n",
    "figure = plt.figure(figsize=(6, 6))\n",
    "    "
   ]
  },
  {
   "cell_type": "markdown",
   "id": "80dc9b56",
   "metadata": {},
   "source": [
    "### Video no. 270"
   ]
  },
  {
   "cell_type": "code",
   "execution_count": 9,
   "id": "f2a8908f",
   "metadata": {},
   "outputs": [
    {
     "name": "stdout",
     "output_type": "stream",
     "text": [
      "Found 171 images belonging to 2 classes.\n",
      "**********************Classification Report ******************\n",
      "              precision    recall  f1-score   support\n",
      "\n",
      "         0.0       0.87      0.71      0.78       112\n",
      "         1.0       0.59      0.80      0.68        59\n",
      "\n",
      "    accuracy                           0.74       171\n",
      "   macro avg       0.73      0.76      0.73       171\n",
      "weighted avg       0.77      0.74      0.75       171\n",
      "\n",
      "\n",
      "**************************Confusion Matrix********************\n"
     ]
    },
    {
     "data": {
      "image/png": "[encoded data removed]",
      "text/plain": [
       "<Figure size 432x432 with 2 Axes>"
      ]
     },
     "metadata": {
      "needs_background": "light"
     },
     "output_type": "display_data"
    },
    {
     "data": {
      "text/plain": [
       "<Figure size 432x432 with 0 Axes>"
      ]
     },
     "metadata": {},
     "output_type": "display_data"
    }
   ],
   "source": [
    "test_data_dir = '../../Datasets/RAFT-12-first-level/270'\n",
    "\n",
    "\n",
    "test_datagen = ImageDataGenerator()\n",
    " \n",
    "\n",
    "test_generator = test_datagen.flow_from_directory(\n",
    "        test_data_dir,\n",
    "        target_size=(img_rows, img_cols),\n",
    "        class_mode='binary')\n",
    "   \n",
    "# Fetching x_test, y_test variables from test.    \n",
    "test_generator.reset()\n",
    "x_test, y_test = next(test_generator)\n",
    "for i in range(len(test_generator)-1): \n",
    "    img, label = next(test_generator)\n",
    "    x_test = np.append(x_test, img, axis=0 )\n",
    "    y_test = np.append(y_test, label, axis=0)\n",
    "    \n",
    "\n",
    "nb_test_samples = len(x_test) \n",
    "\n",
    "\n",
    "test_generator.reset()\n",
    "\n",
    "classes=[\"Non-pushing\",\"Pushing\"]\n",
    "y_pred=model.predict(x_test)\n",
    "Y_pred=(np.round(y_pred))\n",
    "\n",
    "\n",
    "\n",
    "# Precision=TP/(TP+FP)\n",
    "# Recall=TP/(TP+FN)\n",
    "# f1-score  metric combines precision and recall   \n",
    "\n",
    "print (\"**********************Classification Report ******************\") \n",
    "print(classification_report(y_test, Y_pred))\n",
    "print()\n",
    "\n",
    "print (\"**************************Confusion Matrix********************\")\n",
    "con_mat = tf.math.confusion_matrix(labels=y_test, predictions=Y_pred).numpy()\n",
    "\n",
    "con_mat_norm_per = np.around(con_mat.astype('float') / con_mat.sum(axis=1)[:, np.newaxis], decimals=2)\n",
    "\n",
    "\n",
    "con_mat_df_per = pd.DataFrame(con_mat_norm_per,\n",
    "                     index = classes, \n",
    "                     columns = classes)\n",
    "\n",
    "\n",
    " \n",
    "figure = plt.figure(figsize=(6, 6))\n",
    "sns.heatmap(con_mat_df_per, annot=True,cmap=plt.cm.Blues)\n",
    "\n",
    "plt.tight_layout()\n",
    "plt.ylabel('Actual label')\n",
    "plt.xlabel('Predicted label')\n",
    "plt.show()\n",
    "\n",
    "figure = plt.figure(figsize=(6, 6))\n",
    "    "
   ]
  },
  {
   "cell_type": "markdown",
   "id": "bb5cb0ad",
   "metadata": {},
   "source": [
    "### Video no. 280"
   ]
  },
  {
   "cell_type": "code",
   "execution_count": 10,
   "id": "f5c675bc",
   "metadata": {},
   "outputs": [
    {
     "name": "stdout",
     "output_type": "stream",
     "text": [
      "Found 169 images belonging to 2 classes.\n",
      "**********************Classification Report ******************\n",
      "              precision    recall  f1-score   support\n",
      "\n",
      "         0.0       0.77      0.74      0.75       108\n",
      "         1.0       0.57      0.61      0.59        61\n",
      "\n",
      "    accuracy                           0.69       169\n",
      "   macro avg       0.67      0.67      0.67       169\n",
      "weighted avg       0.70      0.69      0.69       169\n",
      "\n",
      "\n",
      "**************************Confusion Matrix********************\n"
     ]
    },
    {
     "data": {
      "image/png": "[encoded data removed]",
      "text/plain": [
       "<Figure size 432x432 with 2 Axes>"
      ]
     },
     "metadata": {
      "needs_background": "light"
     },
     "output_type": "display_data"
    },
    {
     "data": {
      "text/plain": [
       "<Figure size 432x432 with 0 Axes>"
      ]
     },
     "metadata": {},
     "output_type": "display_data"
    }
   ],
   "source": [
    "test_data_dir = '../../Datasets/RAFT-12-first-level/280'\n",
    "\n",
    "\n",
    "test_datagen = ImageDataGenerator()\n",
    " \n",
    "\n",
    "test_generator = test_datagen.flow_from_directory(\n",
    "        test_data_dir,\n",
    "        target_size=(img_rows, img_cols),\n",
    "        class_mode='binary')\n",
    "   \n",
    "# Fetching x_test, y_test variables from test.    \n",
    "test_generator.reset()\n",
    "x_test, y_test = next(test_generator)\n",
    "for i in range(len(test_generator)-1): \n",
    "    img, label = next(test_generator)\n",
    "    x_test = np.append(x_test, img, axis=0 )\n",
    "    y_test = np.append(y_test, label, axis=0)\n",
    "    \n",
    "\n",
    "nb_test_samples = len(x_test) \n",
    "\n",
    "\n",
    "test_generator.reset()\n",
    "\n",
    "classes=[\"Non-pushing\",\"Pushing\"]\n",
    "y_pred=model.predict(x_test)\n",
    "Y_pred=(np.round(y_pred))\n",
    "\n",
    "\n",
    "\n",
    "# Precision=TP/(TP+FP)\n",
    "# Recall=TP/(TP+FN)\n",
    "# f1-score  metric combines precision and recall   \n",
    "\n",
    "print (\"**********************Classification Report ******************\") \n",
    "print(classification_report(y_test, Y_pred))\n",
    "print()\n",
    "\n",
    "print (\"**************************Confusion Matrix********************\")\n",
    "con_mat = tf.math.confusion_matrix(labels=y_test, predictions=Y_pred).numpy()\n",
    "\n",
    "con_mat_norm_per = np.around(con_mat.astype('float') / con_mat.sum(axis=1)[:, np.newaxis], decimals=2)\n",
    "\n",
    "\n",
    "con_mat_df_per = pd.DataFrame(con_mat_norm_per,\n",
    "                     index = classes, \n",
    "                     columns = classes)\n",
    "\n",
    "\n",
    " \n",
    "figure = plt.figure(figsize=(6, 6))\n",
    "sns.heatmap(con_mat_df_per, annot=True,cmap=plt.cm.Blues)\n",
    "\n",
    "plt.tight_layout()\n",
    "plt.ylabel('Actual label')\n",
    "plt.xlabel('Predicted label')\n",
    "plt.show()\n",
    "\n",
    "figure = plt.figure(figsize=(6, 6))\n",
    "    "
   ]
  },
  {
   "cell_type": "code",
   "execution_count": null,
   "id": "93743a4e",
   "metadata": {},
   "outputs": [],
   "source": []
  }
 ],
 "metadata": {
  "kernelspec": {
   "display_name": "Python 3",
   "language": "python",
   "name": "python3"
  },
  "language_info": {
   "codemirror_mode": {
    "name": "ipython",
    "version": 3
   },
   "file_extension": ".py",
   "mimetype": "text/x-python",
   "name": "python",
   "nbconvert_exporter": "python",
   "pygments_lexer": "ipython3",
   "version": "3.8.8"
  }
 },
 "nbformat": 4,
 "nbformat_minor": 5
}

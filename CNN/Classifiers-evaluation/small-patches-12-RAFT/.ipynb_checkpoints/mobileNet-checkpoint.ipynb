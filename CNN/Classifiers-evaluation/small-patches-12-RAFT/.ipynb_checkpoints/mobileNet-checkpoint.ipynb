{
 "cells": [
  {
   "cell_type": "markdown",
   "id": "c2cac94d",
   "metadata": {},
   "source": [
    "## MobileNet model evaluation\n"
   ]
  },
  {
   "cell_type": "code",
   "execution_count": 1,
   "id": "f053d441",
   "metadata": {},
   "outputs": [],
   "source": [
    "import time\n",
    "from matplotlib import pyplot as plt\n",
    "from tensorflow.keras.models import Sequential\n",
    "from tensorflow.keras.preprocessing.image import ImageDataGenerator\n",
    "from sklearn.metrics import classification_report, confusion_matrix\n",
    "import numpy as np\n",
    "import warnings\n",
    "warnings.filterwarnings('ignore')\n",
    "from tensorflow.keras.models import load_model\n",
    "import tensorflow as tf\n",
    "import pandas as pd\n",
    "from tensorflow.keras.preprocessing.image import ImageDataGenerator, load_img, img_to_array\n",
    "from keras.preprocessing import image\n",
    "from os import listdir\n",
    "from os.path import isfile, join\n",
    "import seaborn as sns \n",
    "from tensorflow.keras.models import load_model\n",
    "\n",
    "\n"
   ]
  },
  {
   "cell_type": "code",
   "execution_count": 4,
   "id": "ccce358f",
   "metadata": {},
   "outputs": [
    {
     "name": "stdout",
     "output_type": "stream",
     "text": [
      "Found 424 images belonging to 2 classes.\n"
     ]
    }
   ],
   "source": [
    "test_data_dir = '../../Datasets/RAFT-12-second-level/all'\n",
    "img_rows, img_cols = 224,224\n",
    "test_datagen = ImageDataGenerator()\n",
    " \n",
    "\n",
    "test_generator = test_datagen.flow_from_directory(\n",
    "        test_data_dir,\n",
    "        target_size=(img_rows, img_cols),\n",
    "        class_mode='binary')\n",
    "   \n",
    "# Fetching x_test, y_test variables from test.    \n",
    "test_generator.reset()\n",
    "x_test, y_test = next(test_generator)\n",
    "for i in range(len(test_generator)-1): \n",
    "    img, label = next(test_generator)\n",
    "    x_test = np.append(x_test, img, axis=0 )\n",
    "    y_test = np.append(y_test, label, axis=0)\n",
    "    \n",
    "\n",
    "nb_test_samples = len(x_test) \n",
    "    \n",
    " \n",
    "    \n"
   ]
  },
  {
   "cell_type": "markdown",
   "id": "586688c9",
   "metadata": {},
   "source": [
    "### Model evaluation"
   ]
  },
  {
   "cell_type": "code",
   "execution_count": 5,
   "id": "fe7875a5",
   "metadata": {},
   "outputs": [
    {
     "name": "stdout",
     "output_type": "stream",
     "text": [
      "**********************Classification Report ******************\n",
      "              precision    recall  f1-score   support\n",
      "\n",
      "         0.0       0.81      0.83      0.82       220\n",
      "         1.0       0.81      0.79      0.80       204\n",
      "\n",
      "    accuracy                           0.81       424\n",
      "   macro avg       0.81      0.81      0.81       424\n",
      "weighted avg       0.81      0.81      0.81       424\n",
      "\n",
      "\n",
      "**************************Confusion Matrix********************\n"
     ]
    },
    {
     "data": {
      "image/png": "[encoded data removed]",
      "text/plain": [
       "<Figure size 432x432 with 2 Axes>"
      ]
     },
     "metadata": {
      "needs_background": "light"
     },
     "output_type": "display_data"
    },
    {
     "data": {
      "text/plain": [
       "<Figure size 432x432 with 0 Axes>"
      ]
     },
     "metadata": {},
     "output_type": "display_data"
    }
   ],
   "source": [
    "model= load_model('../../Models/MobileNet-medium-patches-12-RAFT.h5')\n",
    "\n",
    "test_generator.reset()\n",
    "\n",
    "classes=[\"Non-pushing\",\"Pushing\"]\n",
    "y_pred=model.predict(x_test)\n",
    "Y_pred=(np.round(y_pred))\n",
    "\n",
    "\n",
    "\n",
    "# Precision=TP/(TP+FP)\n",
    "# Recall=TP/(TP+FN)\n",
    "# f1-score  metric combines precision and recall   \n",
    "\n",
    "print (\"**********************Classification Report ******************\") \n",
    "print(classification_report(y_test, Y_pred))\n",
    "print()\n",
    "\n",
    "print (\"**************************Confusion Matrix********************\")\n",
    "con_mat = tf.math.confusion_matrix(labels=y_test, predictions=Y_pred).numpy()\n",
    "\n",
    "con_mat_norm_per = np.around(con_mat.astype('float') / con_mat.sum(axis=1)[:, np.newaxis], decimals=2)\n",
    "\n",
    "\n",
    "con_mat_df_per = pd.DataFrame(con_mat_norm_per,\n",
    "                     index = classes, \n",
    "                     columns = classes)\n",
    "\n",
    "\n",
    " \n",
    "figure = plt.figure(figsize=(6, 6))\n",
    "sns.heatmap(con_mat_df_per, annot=True,cmap=plt.cm.Blues)\n",
    "\n",
    "plt.tight_layout()\n",
    "plt.ylabel('Actual label')\n",
    "plt.xlabel('Predicted label')\n",
    "plt.show()\n",
    "\n",
    "figure = plt.figure(figsize=(6, 6))\n"
   ]
  },
  {
   "cell_type": "markdown",
   "id": "f2edb03d",
   "metadata": {},
   "source": [
    "### Video no. 110"
   ]
  },
  {
   "cell_type": "code",
   "execution_count": 6,
   "id": "bc387d23",
   "metadata": {},
   "outputs": [
    {
     "name": "stdout",
     "output_type": "stream",
     "text": [
      "Found 55 images belonging to 2 classes.\n",
      "**********************Classification Report ******************\n",
      "              precision    recall  f1-score   support\n",
      "\n",
      "         0.0       0.94      0.73      0.82        22\n",
      "         1.0       0.84      0.97      0.90        33\n",
      "\n",
      "    accuracy                           0.87        55\n",
      "   macro avg       0.89      0.85      0.86        55\n",
      "weighted avg       0.88      0.87      0.87        55\n",
      "\n",
      "\n",
      "**************************Confusion Matrix********************\n"
     ]
    },
    {
     "data": {
      "image/png": "[encoded data removed]",
      "text/plain": [
       "<Figure size 432x432 with 2 Axes>"
      ]
     },
     "metadata": {
      "needs_background": "light"
     },
     "output_type": "display_data"
    },
    {
     "data": {
      "text/plain": [
       "<Figure size 432x432 with 0 Axes>"
      ]
     },
     "metadata": {},
     "output_type": "display_data"
    }
   ],
   "source": [
    "test_data_dir = '../../Datasets/RAFT-12-second-level/110'\n",
    "\n",
    "\n",
    "\n",
    "test_datagen = ImageDataGenerator()\n",
    " \n",
    "\n",
    "test_generator = test_datagen.flow_from_directory(\n",
    "        test_data_dir,\n",
    "        target_size=(img_rows, img_cols),\n",
    "        class_mode='binary')\n",
    "   \n",
    "# Fetching x_test, y_test variables from test.    \n",
    "test_generator.reset()\n",
    "x_test, y_test = next(test_generator)\n",
    "for i in range(len(test_generator)-1): \n",
    "    img, label = next(test_generator)\n",
    "    x_test = np.append(x_test, img, axis=0 )\n",
    "    y_test = np.append(y_test, label, axis=0)\n",
    "    \n",
    "\n",
    "nb_test_samples = len(x_test) \n",
    "\n",
    "\n",
    "test_generator.reset()\n",
    "\n",
    "classes=[\"Non-pushing\",\"Pushing\"]\n",
    "y_pred=model.predict(x_test)\n",
    "Y_pred=(np.round(y_pred))\n",
    "\n",
    "\n",
    "\n",
    "# Precision=TP/(TP+FP)\n",
    "# Recall=TP/(TP+FN)\n",
    "# f1-score  metric combines precision and recall   \n",
    "\n",
    "print (\"**********************Classification Report ******************\") \n",
    "print(classification_report(y_test, Y_pred))\n",
    "print()\n",
    "\n",
    "print (\"**************************Confusion Matrix********************\")\n",
    "con_mat = tf.math.confusion_matrix(labels=y_test, predictions=Y_pred).numpy()\n",
    "\n",
    "con_mat_norm_per = np.around(con_mat.astype('float') / con_mat.sum(axis=1)[:, np.newaxis], decimals=2)\n",
    "\n",
    "\n",
    "con_mat_df_per = pd.DataFrame(con_mat_norm_per,\n",
    "                     index = classes, \n",
    "                     columns = classes)\n",
    "\n",
    "\n",
    " \n",
    "figure = plt.figure(figsize=(6, 6))\n",
    "sns.heatmap(con_mat_df_per, annot=True,cmap=plt.cm.Blues)\n",
    "\n",
    "plt.tight_layout()\n",
    "plt.ylabel('Actual label')\n",
    "plt.xlabel('Predicted label')\n",
    "plt.show()\n",
    "\n",
    "figure = plt.figure(figsize=(6, 6))\n",
    "    "
   ]
  },
  {
   "cell_type": "markdown",
   "id": "3f53c1e4",
   "metadata": {},
   "source": [
    "### Video no. 170"
   ]
  },
  {
   "cell_type": "code",
   "execution_count": 7,
   "id": "09e4774a",
   "metadata": {},
   "outputs": [
    {
     "name": "stdout",
     "output_type": "stream",
     "text": [
      "Found 19 images belonging to 2 classes.\n",
      "**********************Classification Report ******************\n",
      "              precision    recall  f1-score   support\n",
      "\n",
      "         0.0       0.38      0.56      0.45         9\n",
      "         1.0       0.33      0.20      0.25        10\n",
      "\n",
      "    accuracy                           0.37        19\n",
      "   macro avg       0.36      0.38      0.35        19\n",
      "weighted avg       0.36      0.37      0.35        19\n",
      "\n",
      "\n",
      "**************************Confusion Matrix********************\n"
     ]
    },
    {
     "data": {
      "image/png": "[encoded data removed]",
      "text/plain": [
       "<Figure size 432x432 with 2 Axes>"
      ]
     },
     "metadata": {
      "needs_background": "light"
     },
     "output_type": "display_data"
    },
    {
     "data": {
      "text/plain": [
       "<Figure size 432x432 with 0 Axes>"
      ]
     },
     "metadata": {},
     "output_type": "display_data"
    }
   ],
   "source": [
    "test_data_dir = '../../Datasets/RAFT-12-second-level/170'\n",
    "\n",
    "\n",
    "test_datagen = ImageDataGenerator()\n",
    " \n",
    "\n",
    "test_generator = test_datagen.flow_from_directory(\n",
    "        test_data_dir,\n",
    "        target_size=(img_rows, img_cols),\n",
    "        class_mode='binary')\n",
    "   \n",
    "# Fetching x_test, y_test variables from test.    \n",
    "test_generator.reset()\n",
    "x_test, y_test = next(test_generator)\n",
    "for i in range(len(test_generator)-1): \n",
    "    img, label = next(test_generator)\n",
    "    x_test = np.append(x_test, img, axis=0 )\n",
    "    y_test = np.append(y_test, label, axis=0)\n",
    "    \n",
    "\n",
    "nb_test_samples = len(x_test) \n",
    "\n",
    "\n",
    "test_generator.reset()\n",
    "\n",
    "classes=[\"Non-pushing\",\"Pushing\"]\n",
    "y_pred=model.predict(x_test)\n",
    "Y_pred=(np.round(y_pred))\n",
    "\n",
    "\n",
    "\n",
    "# Precision=TP/(TP+FP)\n",
    "# Recall=TP/(TP+FN)\n",
    "# f1-score  metric combines precision and recall   \n",
    "\n",
    "print (\"**********************Classification Report ******************\") \n",
    "print(classification_report(y_test, Y_pred))\n",
    "print()\n",
    "\n",
    "print (\"**************************Confusion Matrix********************\")\n",
    "con_mat = tf.math.confusion_matrix(labels=y_test, predictions=Y_pred).numpy()\n",
    "\n",
    "con_mat_norm_per = np.around(con_mat.astype('float') / con_mat.sum(axis=1)[:, np.newaxis], decimals=2)\n",
    "\n",
    "\n",
    "con_mat_df_per = pd.DataFrame(con_mat_norm_per,\n",
    "                     index = classes, \n",
    "                     columns = classes)\n",
    "\n",
    "\n",
    " \n",
    "figure = plt.figure(figsize=(6, 6))\n",
    "sns.heatmap(con_mat_df_per, annot=True,cmap=plt.cm.Blues)\n",
    "\n",
    "plt.tight_layout()\n",
    "plt.ylabel('Actual label')\n",
    "plt.xlabel('Predicted label')\n",
    "plt.show()\n",
    "\n",
    "figure = plt.figure(figsize=(6, 6))\n",
    "    "
   ]
  },
  {
   "cell_type": "markdown",
   "id": "98d649df",
   "metadata": {},
   "source": [
    "### Video no.150"
   ]
  },
  {
   "cell_type": "code",
   "execution_count": 8,
   "id": "f37bfb2d",
   "metadata": {},
   "outputs": [
    {
     "name": "stdout",
     "output_type": "stream",
     "text": [
      "Found 117 images belonging to 2 classes.\n",
      "**********************Classification Report ******************\n",
      "              precision    recall  f1-score   support\n",
      "\n",
      "         0.0       0.98      0.84      0.91        75\n",
      "         1.0       0.77      0.98      0.86        42\n",
      "\n",
      "    accuracy                           0.89       117\n",
      "   macro avg       0.88      0.91      0.88       117\n",
      "weighted avg       0.91      0.89      0.89       117\n",
      "\n",
      "\n",
      "**************************Confusion Matrix********************\n"
     ]
    },
    {
     "data": {
      "image/png": "[encoded data removed]",
      "text/plain": [
       "<Figure size 432x432 with 2 Axes>"
      ]
     },
     "metadata": {
      "needs_background": "light"
     },
     "output_type": "display_data"
    },
    {
     "data": {
      "text/plain": [
       "<Figure size 432x432 with 0 Axes>"
      ]
     },
     "metadata": {},
     "output_type": "display_data"
    }
   ],
   "source": [
    "test_data_dir = '../../Datasets/RAFT-12-second-level/150'\n",
    "\n",
    "\n",
    "test_datagen = ImageDataGenerator()\n",
    " \n",
    "\n",
    "test_generator = test_datagen.flow_from_directory(\n",
    "        test_data_dir,\n",
    "        target_size=(img_rows, img_cols),\n",
    "        class_mode='binary')\n",
    "   \n",
    "# Fetching x_test, y_test variables from test.    \n",
    "test_generator.reset()\n",
    "x_test, y_test = next(test_generator)\n",
    "for i in range(len(test_generator)-1): \n",
    "    img, label = next(test_generator)\n",
    "    x_test = np.append(x_test, img, axis=0 )\n",
    "    y_test = np.append(y_test, label, axis=0)\n",
    "    \n",
    "\n",
    "nb_test_samples = len(x_test) \n",
    "\n",
    "\n",
    "test_generator.reset()\n",
    "\n",
    "classes=[\"Non-pushing\",\"Pushing\"]\n",
    "y_pred=model.predict(x_test)\n",
    "Y_pred=(np.round(y_pred))\n",
    "\n",
    "\n",
    "\n",
    "# Precision=TP/(TP+FP)\n",
    "# Recall=TP/(TP+FN)\n",
    "# f1-score  metric combines precision and recall   \n",
    "\n",
    "print (\"**********************Classification Report ******************\") \n",
    "print(classification_report(y_test, Y_pred))\n",
    "print()\n",
    "\n",
    "print (\"**************************Confusion Matrix********************\")\n",
    "con_mat = tf.math.confusion_matrix(labels=y_test, predictions=Y_pred).numpy()\n",
    "\n",
    "con_mat_norm_per = np.around(con_mat.astype('float') / con_mat.sum(axis=1)[:, np.newaxis], decimals=2)\n",
    "\n",
    "\n",
    "con_mat_df_per = pd.DataFrame(con_mat_norm_per,\n",
    "                     index = classes, \n",
    "                     columns = classes)\n",
    "\n",
    "\n",
    " \n",
    "figure = plt.figure(figsize=(6, 6))\n",
    "sns.heatmap(con_mat_df_per, annot=True,cmap=plt.cm.Blues)\n",
    "\n",
    "plt.tight_layout()\n",
    "plt.ylabel('Actual label')\n",
    "plt.xlabel('Predicted label')\n",
    "plt.show()\n",
    "\n",
    "figure = plt.figure(figsize=(6, 6))\n",
    "    "
   ]
  },
  {
   "cell_type": "markdown",
   "id": "80dc9b56",
   "metadata": {},
   "source": [
    "### Video no. 270"
   ]
  },
  {
   "cell_type": "code",
   "execution_count": 9,
   "id": "f2a8908f",
   "metadata": {},
   "outputs": [
    {
     "name": "stdout",
     "output_type": "stream",
     "text": [
      "Found 118 images belonging to 2 classes.\n",
      "**********************Classification Report ******************\n",
      "              precision    recall  f1-score   support\n",
      "\n",
      "         0.0       0.80      0.80      0.80        56\n",
      "         1.0       0.82      0.82      0.82        62\n",
      "\n",
      "    accuracy                           0.81       118\n",
      "   macro avg       0.81      0.81      0.81       118\n",
      "weighted avg       0.81      0.81      0.81       118\n",
      "\n",
      "\n",
      "**************************Confusion Matrix********************\n"
     ]
    },
    {
     "data": {
      "image/png": "[encoded data removed]",
      "text/plain": [
       "<Figure size 432x432 with 2 Axes>"
      ]
     },
     "metadata": {
      "needs_background": "light"
     },
     "output_type": "display_data"
    },
    {
     "data": {
      "text/plain": [
       "<Figure size 432x432 with 0 Axes>"
      ]
     },
     "metadata": {},
     "output_type": "display_data"
    }
   ],
   "source": [
    "test_data_dir = '../../Datasets/RAFT-12-second-level/270'\n",
    "\n",
    "\n",
    "test_datagen = ImageDataGenerator()\n",
    " \n",
    "\n",
    "test_generator = test_datagen.flow_from_directory(\n",
    "        test_data_dir,\n",
    "        target_size=(img_rows, img_cols),\n",
    "        class_mode='binary')\n",
    "   \n",
    "# Fetching x_test, y_test variables from test.    \n",
    "test_generator.reset()\n",
    "x_test, y_test = next(test_generator)\n",
    "for i in range(len(test_generator)-1): \n",
    "    img, label = next(test_generator)\n",
    "    x_test = np.append(x_test, img, axis=0 )\n",
    "    y_test = np.append(y_test, label, axis=0)\n",
    "    \n",
    "\n",
    "nb_test_samples = len(x_test) \n",
    "\n",
    "\n",
    "test_generator.reset()\n",
    "\n",
    "classes=[\"Non-pushing\",\"Pushing\"]\n",
    "y_pred=model.predict(x_test)\n",
    "Y_pred=(np.round(y_pred))\n",
    "\n",
    "\n",
    "\n",
    "# Precision=TP/(TP+FP)\n",
    "# Recall=TP/(TP+FN)\n",
    "# f1-score  metric combines precision and recall   \n",
    "\n",
    "print (\"**********************Classification Report ******************\") \n",
    "print(classification_report(y_test, Y_pred))\n",
    "print()\n",
    "\n",
    "print (\"**************************Confusion Matrix********************\")\n",
    "con_mat = tf.math.confusion_matrix(labels=y_test, predictions=Y_pred).numpy()\n",
    "\n",
    "con_mat_norm_per = np.around(con_mat.astype('float') / con_mat.sum(axis=1)[:, np.newaxis], decimals=2)\n",
    "\n",
    "\n",
    "con_mat_df_per = pd.DataFrame(con_mat_norm_per,\n",
    "                     index = classes, \n",
    "                     columns = classes)\n",
    "\n",
    "\n",
    " \n",
    "figure = plt.figure(figsize=(6, 6))\n",
    "sns.heatmap(con_mat_df_per, annot=True,cmap=plt.cm.Blues)\n",
    "\n",
    "plt.tight_layout()\n",
    "plt.ylabel('Actual label')\n",
    "plt.xlabel('Predicted label')\n",
    "plt.show()\n",
    "\n",
    "figure = plt.figure(figsize=(6, 6))\n",
    "    "
   ]
  },
  {
   "cell_type": "markdown",
   "id": "bb5cb0ad",
   "metadata": {},
   "source": [
    "### Video no. 280"
   ]
  },
  {
   "cell_type": "code",
   "execution_count": 10,
   "id": "f5c675bc",
   "metadata": {},
   "outputs": [
    {
     "name": "stdout",
     "output_type": "stream",
     "text": [
      "Found 115 images belonging to 2 classes.\n",
      "**********************Classification Report ******************\n",
      "              precision    recall  f1-score   support\n",
      "\n",
      "         0.0       0.83      0.69      0.75        58\n",
      "         1.0       0.73      0.86      0.79        57\n",
      "\n",
      "    accuracy                           0.77       115\n",
      "   macro avg       0.78      0.77      0.77       115\n",
      "weighted avg       0.78      0.77      0.77       115\n",
      "\n",
      "\n",
      "**************************Confusion Matrix********************\n"
     ]
    },
    {
     "data": {
      "image/png": "[encoded data removed]",
      "text/plain": [
       "<Figure size 432x432 with 2 Axes>"
      ]
     },
     "metadata": {
      "needs_background": "light"
     },
     "output_type": "display_data"
    },
    {
     "data": {
      "text/plain": [
       "<Figure size 432x432 with 0 Axes>"
      ]
     },
     "metadata": {},
     "output_type": "display_data"
    }
   ],
   "source": [
    "test_data_dir = '../../Datasets/RAFT-12-second-level/280'\n",
    "\n",
    "\n",
    "test_datagen = ImageDataGenerator()\n",
    " \n",
    "\n",
    "test_generator = test_datagen.flow_from_directory(\n",
    "        test_data_dir,\n",
    "        target_size=(img_rows, img_cols),\n",
    "        class_mode='binary')\n",
    "   \n",
    "# Fetching x_test, y_test variables from test.    \n",
    "test_generator.reset()\n",
    "x_test, y_test = next(test_generator)\n",
    "for i in range(len(test_generator)-1): \n",
    "    img, label = next(test_generator)\n",
    "    x_test = np.append(x_test, img, axis=0 )\n",
    "    y_test = np.append(y_test, label, axis=0)\n",
    "    \n",
    "\n",
    "nb_test_samples = len(x_test) \n",
    "\n",
    "\n",
    "test_generator.reset()\n",
    "\n",
    "classes=[\"Non-pushing\",\"Pushing\"]\n",
    "y_pred=model.predict(x_test)\n",
    "Y_pred=(np.round(y_pred))\n",
    "\n",
    "\n",
    "\n",
    "# Precision=TP/(TP+FP)\n",
    "# Recall=TP/(TP+FN)\n",
    "# f1-score  metric combines precision and recall   \n",
    "\n",
    "print (\"**********************Classification Report ******************\") \n",
    "print(classification_report(y_test, Y_pred))\n",
    "print()\n",
    "\n",
    "print (\"**************************Confusion Matrix********************\")\n",
    "con_mat = tf.math.confusion_matrix(labels=y_test, predictions=Y_pred).numpy()\n",
    "\n",
    "con_mat_norm_per = np.around(con_mat.astype('float') / con_mat.sum(axis=1)[:, np.newaxis], decimals=2)\n",
    "\n",
    "\n",
    "con_mat_df_per = pd.DataFrame(con_mat_norm_per,\n",
    "                     index = classes, \n",
    "                     columns = classes)\n",
    "\n",
    "\n",
    " \n",
    "figure = plt.figure(figsize=(6, 6))\n",
    "sns.heatmap(con_mat_df_per, annot=True,cmap=plt.cm.Blues)\n",
    "\n",
    "plt.tight_layout()\n",
    "plt.ylabel('Actual label')\n",
    "plt.xlabel('Predicted label')\n",
    "plt.show()\n",
    "\n",
    "figure = plt.figure(figsize=(6, 6))\n",
    "    "
   ]
  },
  {
   "cell_type": "code",
   "execution_count": null,
   "id": "93743a4e",
   "metadata": {},
   "outputs": [],
   "source": []
  }
 ],
 "metadata": {
  "kernelspec": {
   "display_name": "Python 3",
   "language": "python",
   "name": "python3"
  },
  "language_info": {
   "codemirror_mode": {
    "name": "ipython",
    "version": 3
   },
   "file_extension": ".py",
   "mimetype": "text/x-python",
   "name": "python",
   "nbconvert_exporter": "python",
   "pygments_lexer": "ipython3",
   "version": "3.8.8"
  }
 },
 "nbformat": 4,
 "nbformat_minor": 5
}
